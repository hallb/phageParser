{
 "cells": [
  {
   "cell_type": "markdown",
   "metadata": {},
   "source": [
    "## Analyzing prophages with Phaster"
   ]
  },
  {
   "cell_type": "markdown",
   "metadata": {},
   "source": [
    "This notebook uses [Phaster](http://phaster.ca/) to detect potential prophages in bacterial and archaeal genomes. Prophages are bacteriophages (viruses that infect bacteria) that have inserted their DNA into a host bacterium's genome. Many bacteria contain prophages or remnants of ancient prophages, and we are interested in the relationship between the presence of prophages and having an active or inactive CRISPR system."
   ]
  },
  {
   "cell_type": "code",
   "execution_count": 3,
   "metadata": {
    "collapsed": false
   },
   "outputs": [],
   "source": [
    "%matplotlib inline"
   ]
  },
  {
   "cell_type": "code",
   "execution_count": 69,
   "metadata": {
    "collapsed": true
   },
   "outputs": [],
   "source": [
    "#Import packages\n",
    "import requests\n",
    "import json\n",
    "import numpy as np\n",
    "import random\n",
    "import matplotlib.pyplot as plt\n",
    "from matplotlib import mlab\n",
    "import seaborn as sns\n",
    "import pandas as pd\n",
    "from scipy.stats import poisson\n",
    "from io import StringIO\n",
    "import time\n",
    "sns.set_palette(\"husl\")"
   ]
  },
  {
   "cell_type": "code",
   "execution_count": null,
   "metadata": {
    "collapsed": false,
    "scrolled": true
   },
   "outputs": [],
   "source": [
    "# Create dictionary of prophages found in bacteria that have active CRISPR systems (confirmed by experiments)\n",
    "prophages_dict = {}\n",
    "\n",
    "# open the list of bacteria with active CRISPR systems\n",
    "with open(\"../data/active_accessions.txt\", \"r\") as f:\n",
    "    for line in f:\n",
    "        acc = line.rstrip()\n",
    "        #print(acc)\n",
    "        apiurl = \"http://phaster.ca/phaster_api?acc={}\".format(acc) \n",
    "        r=requests.get(apiurl)\n",
    "        try:\n",
    "            d=r.json()['summary']\n",
    "        except ValueError:  # includes simplejson.decoder.JSONDecodeError\n",
    "            # wait a delay and try again\n",
    "            time.sleep(2)\n",
    "            try:\n",
    "                r=requests.get(apiurl)\n",
    "                d=r.json()['summary']\n",
    "            except ValueError:  # includes simplejson.decoder.JSONDecodeError\n",
    "                print(\"Error acquiring results for accession %s\" %acc)\n",
    "        if d.find('Totally 0') != -1:\n",
    "            prophages = False\n",
    "            num_prophages = 0\n",
    "        else:\n",
    "            prophages = True\n",
    "            # find number of prophages\n",
    "            e='\\n'.join(d.split('\\n')[32:])\n",
    "            data = pd.read_table(StringIO(e),skiprows=[1], delim_whitespace=True)\n",
    "            num_prophages = sum(data['COMPLETENESS(score)'].str.contains('intact'))\n",
    "        prophages_dict[acc] = num_prophages\n"
   ]
  },
  {
   "cell_type": "code",
   "execution_count": null,
   "metadata": {
    "collapsed": false
   },
   "outputs": [],
   "source": [
    "# Create dictionary of prophages found in bacteria that may not have active CRISPR systems\n",
    "\n",
    "prophages_dict_all = {}\n",
    "\n",
    "# make a list of the active bacteria\n",
    "active_accessions = pd.read_table(\"../data/active_accessions.txt\", dtype = \"str\", encoding = \"utf-8\", header = None)\n",
    "active_accessions = active_accessions[0].tolist()\n",
    "\n",
    "# open the total list of bacteria \n",
    "with open(\"../data/bac_accession_list.txt\", \"r\") as f:\n",
    "    for line in f:\n",
    "        acc = line.rstrip()\n",
    "        if acc in active_accessions:\n",
    "            continue\n",
    "        #print(acc)\n",
    "        apiurl = \"http://phaster.ca/phaster_api?acc={}\".format(acc) \n",
    "        r=requests.get(apiurl)\n",
    "        try:\n",
    "            d=r.json()['summary']\n",
    "        except ValueError:  # includes simplejson.decoder.JSONDecodeError\n",
    "            print(\"Error acquiring results for accession %s\" %acc)\n",
    "        except KeyError:\n",
    "            print(acc, r.json())     \n",
    "        if d.find('Totally 0') != -1:\n",
    "            prophages = False\n",
    "            num_prophages = 0\n",
    "        else:\n",
    "            prophages = True\n",
    "            # find number of prophages\n",
    "            e='\\n'.join(d.split('\\n')[32:])\n",
    "            data = pd.read_table(StringIO(e),skiprows=[1], delim_whitespace=True)\n",
    "            num_prophages = sum(data['COMPLETENESS(score)'].str.contains('intact'))\n",
    "        prophages_dict_all[acc] = num_prophages"
   ]
  },
  {
   "cell_type": "code",
   "execution_count": 66,
   "metadata": {
    "collapsed": false
   },
   "outputs": [
    {
     "data": {
      "text/plain": [
       "<matplotlib.text.Text at 0x7fa9e5b216d8>"
      ]
     },
     "execution_count": 66,
     "metadata": {},
     "output_type": "execute_result"
    },
    {
     "data": {
      "image/png": "[encoded data removed]",
      "text/plain": [
       "<matplotlib.figure.Figure at 0x7fa9e01eb320>"
      ]
     },
     "metadata": {},
     "output_type": "display_data"
    }
   ],
   "source": [
    "# Figure of number of prophages per active CRISPR compared with all organisms\n",
    "plt.figure()\n",
    "bins = plt.hist(list(prophages_dict.values()), label = 'Active CRISPR')\n",
    "bins_all = plt.hist(list(prophages_dict_all.values()), label = 'Not confirmed active CRISPR')\n",
    "plt.yscale('log')\n",
    "plt.legend(loc='best')\n",
    "plt.xlabel('Number of complete prophages')\n",
    "plt.ylabel('Number of organisms')"
   ]
  },
  {
   "cell_type": "code",
   "execution_count": null,
   "metadata": {
    "collapsed": true
   },
   "outputs": [],
   "source": []
  }
 ],
 "metadata": {
  "anaconda-cloud": {},
  "kernelspec": {
   "display_name": "Python [conda env:django]",
   "language": "python",
   "name": "conda-env-django-py"
  },
  "language_info": {
   "codemirror_mode": {
    "name": "ipython",
    "version": 3
   },
   "file_extension": ".py",
   "mimetype": "text/x-python",
   "name": "python",
   "nbconvert_exporter": "python",
   "pygments_lexer": "ipython3",
   "version": "3.5.2"
  }
 },
 "nbformat": 4,
 "nbformat_minor": 1
}
